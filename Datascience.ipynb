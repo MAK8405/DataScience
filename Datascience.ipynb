{
 "cells": [
  {
   "cell_type": "markdown",
   "id": "198f72a5",
   "metadata": {
    "vscode": {
     "languageId": "plaintext"
    }
   },
   "source": [
    "### What is Data?"
   ]
  },
  {
   "cell_type": "code",
   "execution_count": 2,
   "id": "dde69f19",
   "metadata": {},
   "outputs": [
    {
     "name": "stdout",
     "output_type": "stream",
     "text": [
      "[80, 85, 90, 95, 100, 105, 110, 115, 120, 125]\n"
     ]
    }
   ],
   "source": [
    "Array = [80, 85, 90, 95, 100, 105, 110, 115, 120, 125]\n",
    "print(Array)"
   ]
  },
  {
   "cell_type": "markdown",
   "id": "ff893951",
   "metadata": {},
   "source": [
    "### Data Frame"
   ]
  },
  {
   "cell_type": "code",
   "execution_count": 3,
   "id": "b6da09e0",
   "metadata": {},
   "outputs": [
    {
     "name": "stdout",
     "output_type": "stream",
     "text": [
      "   col1  col2  col3\n",
      "0     1     4     7\n",
      "1     2     5     8\n",
      "2     3     6    12\n",
      "3     4     9     1\n",
      "4     7     5    11\n"
     ]
    }
   ],
   "source": [
    "import pandas as pd\n",
    "\n",
    "# Creating a dictionary with lists as values\n",
    "d = {'col1': [1, 2, 3, 4, 7], 'col2': [4, 5, 6, 9, 5], 'col3': [7, 8, 12, 1, 11]}\n",
    "\n",
    "# Creating a DataFrame from the dictionary\n",
    "df = pd.DataFrame(data=d)\n",
    "\n",
    "# Printing the DataFrame\n",
    "print(df)"
   ]
  },
  {
   "cell_type": "code",
   "execution_count": 4,
   "id": "cd773734",
   "metadata": {},
   "outputs": [
    {
     "name": "stdout",
     "output_type": "stream",
     "text": [
      "Number of columns:\n",
      "3\n",
      "Number of rows:\n",
      "5\n"
     ]
    }
   ],
   "source": [
    "countColumn = df.shape[1]\n",
    "print(\"Number of columns:\")\n",
    "print(countColumn)\n",
    "\n",
    "countRow = df.shape[0]\n",
    "print(\"Number of rows:\")\n",
    "print(countRow)"
   ]
  },
  {
   "cell_type": "markdown",
   "id": "870ae830",
   "metadata": {},
   "source": [
    "### DS Functions"
   ]
  },
  {
   "cell_type": "code",
   "execution_count": 5,
   "id": "06221a67",
   "metadata": {},
   "outputs": [
    {
     "name": "stdout",
     "output_type": "stream",
     "text": [
      "125\n"
     ]
    }
   ],
   "source": [
    "Average_pulse_max = max(80,85,90,95,100,105,110,115,120,125)\n",
    "print(Average_pulse_max)"
   ]
  },
  {
   "cell_type": "code",
   "execution_count": 6,
   "id": "0678a424",
   "metadata": {},
   "outputs": [
    {
     "name": "stdout",
     "output_type": "stream",
     "text": [
      "80\n"
     ]
    }
   ],
   "source": [
    "Average_pulse_min = min(80,85,90,95,100,105,110,115,120,125)\n",
    "print(Average_pulse_min)"
   ]
  },
  {
   "cell_type": "code",
   "execution_count": 7,
   "id": "44b6b6ff",
   "metadata": {},
   "outputs": [
    {
     "name": "stdout",
     "output_type": "stream",
     "text": [
      "285.0\n"
     ]
    }
   ],
   "source": [
    "import numpy as np\n",
    "\n",
    "Calorie_burnage = [240, 250, 260, 270, 280, 290, 300, 310, 320, 330]\n",
    "\n",
    "Average_calorie_burnage = np.mean(Calorie_burnage)\n",
    "\n",
    "print(Average_calorie_burnage)"
   ]
  },
  {
   "cell_type": "markdown",
   "id": "223edd5c",
   "metadata": {},
   "source": [
    "### DS Data Preparation"
   ]
  },
  {
   "cell_type": "code",
   "execution_count": 8,
   "id": "618f60e4",
   "metadata": {},
   "outputs": [
    {
     "name": "stdout",
     "output_type": "stream",
     "text": [
      "    Duration Average_Pulse Max_Pulse  Calorie_Burnage  Hours_Work  Hours_Sleep\n",
      "0       30.0            80       120            240.0        10.0          7.0\n",
      "1       45.0            85       120            250.0        10.0          7.0\n",
      "2       45.0            90       130            260.0         8.0          7.0\n",
      "3       60.0            95       130            270.0         8.0          7.0\n",
      "4       60.0           100       140            280.0         0.0          7.0\n",
      "5        NaN           NaN       NaN              NaN         NaN          NaN\n",
      "6       60.0           105       140            290.0         7.0          8.0\n",
      "7       60.0           110       145            300.0         7.0          8.0\n",
      "8       45.0           NaN        AF              NaN         8.0          8.0\n",
      "9       45.0           115       145            310.0         8.0          8.0\n",
      "10      60.0           120       150            320.0         0.0          8.0\n",
      "11      60.0         9 000       130              NaN         NaN          8.0\n",
      "12      45.0           125       150            330.0         8.0          8.0\n"
     ]
    }
   ],
   "source": [
    "import pandas as pd\n",
    "\n",
    "health_data = pd.read_csv(\"data.csv\", header=0, sep=\",\")\n",
    "\n",
    "print(health_data)"
   ]
  },
  {
   "cell_type": "code",
   "execution_count": 9,
   "id": "c66419af",
   "metadata": {},
   "outputs": [
    {
     "name": "stdout",
     "output_type": "stream",
     "text": [
      "   Duration Average_Pulse Max_Pulse  Calorie_Burnage  Hours_Work  Hours_Sleep\n",
      "0      30.0            80       120            240.0        10.0          7.0\n",
      "1      45.0            85       120            250.0        10.0          7.0\n",
      "2      45.0            90       130            260.0         8.0          7.0\n",
      "3      60.0            95       130            270.0         8.0          7.0\n",
      "4      60.0           100       140            280.0         0.0          7.0\n"
     ]
    }
   ],
   "source": [
    "import pandas as pd\n",
    "\n",
    "health_data = pd.read_csv(\"data.csv\", header=0, sep=\",\")\n",
    "\n",
    "print(health_data.head())"
   ]
  },
  {
   "cell_type": "code",
   "execution_count": 10,
   "id": "e62dd311",
   "metadata": {},
   "outputs": [
    {
     "name": "stdout",
     "output_type": "stream",
     "text": [
      "    Duration Average_Pulse Max_Pulse  Calorie_Burnage  Hours_Work  Hours_Sleep\n",
      "0       30.0            80       120            240.0        10.0          7.0\n",
      "1       45.0            85       120            250.0        10.0          7.0\n",
      "2       45.0            90       130            260.0         8.0          7.0\n",
      "3       60.0            95       130            270.0         8.0          7.0\n",
      "4       60.0           100       140            280.0         0.0          7.0\n",
      "6       60.0           105       140            290.0         7.0          8.0\n",
      "7       60.0           110       145            300.0         7.0          8.0\n",
      "9       45.0           115       145            310.0         8.0          8.0\n",
      "10      60.0           120       150            320.0         0.0          8.0\n",
      "12      45.0           125       150            330.0         8.0          8.0\n"
     ]
    }
   ],
   "source": [
    "health_data.dropna(axis=0, inplace=True)\n",
    "\n",
    "print(health_data)"
   ]
  },
  {
   "cell_type": "code",
   "execution_count": 11,
   "id": "fb8ce8ad",
   "metadata": {},
   "outputs": [
    {
     "name": "stdout",
     "output_type": "stream",
     "text": [
      "<class 'pandas.core.frame.DataFrame'>\n",
      "Index: 10 entries, 0 to 12\n",
      "Data columns (total 6 columns):\n",
      " #   Column           Non-Null Count  Dtype  \n",
      "---  ------           --------------  -----  \n",
      " 0   Duration         10 non-null     float64\n",
      " 1   Average_Pulse    10 non-null     object \n",
      " 2   Max_Pulse        10 non-null     object \n",
      " 3   Calorie_Burnage  10 non-null     float64\n",
      " 4   Hours_Work       10 non-null     float64\n",
      " 5   Hours_Sleep      10 non-null     float64\n",
      "dtypes: float64(4), object(2)\n",
      "memory usage: 560.0+ bytes\n",
      "None\n"
     ]
    }
   ],
   "source": [
    "print(health_data.info())"
   ]
  },
  {
   "cell_type": "code",
   "execution_count": 12,
   "id": "ebb89373",
   "metadata": {},
   "outputs": [
    {
     "name": "stdout",
     "output_type": "stream",
     "text": [
      "<class 'pandas.core.frame.DataFrame'>\n",
      "Index: 10 entries, 0 to 12\n",
      "Data columns (total 6 columns):\n",
      " #   Column           Non-Null Count  Dtype  \n",
      "---  ------           --------------  -----  \n",
      " 0   Duration         10 non-null     float64\n",
      " 1   Average_Pulse    10 non-null     float64\n",
      " 2   Max_Pulse        10 non-null     float64\n",
      " 3   Calorie_Burnage  10 non-null     float64\n",
      " 4   Hours_Work       10 non-null     float64\n",
      " 5   Hours_Sleep      10 non-null     float64\n",
      "dtypes: float64(6)\n",
      "memory usage: 560.0 bytes\n",
      "None\n"
     ]
    }
   ],
   "source": [
    "health_data[\"Average_Pulse\"] = health_data['Average_Pulse'].astype(float)\n",
    "health_data[\"Max_Pulse\"] = health_data[\"Max_Pulse\"].astype(float)\n",
    "\n",
    "print(health_data.info())"
   ]
  },
  {
   "cell_type": "code",
   "execution_count": null,
   "id": "0913626b",
   "metadata": {},
   "outputs": [],
   "source": []
  }
 ],
 "metadata": {
  "kernelspec": {
   "display_name": "Python 3",
   "language": "python",
   "name": "python3"
  },
  "language_info": {
   "codemirror_mode": {
    "name": "ipython",
    "version": 3
   },
   "file_extension": ".py",
   "mimetype": "text/x-python",
   "name": "python",
   "nbconvert_exporter": "python",
   "pygments_lexer": "ipython3",
   "version": "3.13.2"
  }
 },
 "nbformat": 4,
 "nbformat_minor": 5
}

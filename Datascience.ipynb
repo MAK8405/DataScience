{
 "cells": [
  {
   "cell_type": "markdown",
   "id": "198f72a5",
   "metadata": {
    "vscode": {
     "languageId": "plaintext"
    }
   },
   "source": [
    "### What is Data?"
   ]
  },
  {
   "cell_type": "code",
   "execution_count": 21,
   "id": "dde69f19",
   "metadata": {},
   "outputs": [
    {
     "name": "stdout",
     "output_type": "stream",
     "text": [
      "[80, 85, 90, 95, 100, 105, 110, 115, 120, 125]\n"
     ]
    }
   ],
   "source": [
    "Array = [80, 85, 90, 95, 100, 105, 110, 115, 120, 125]\n",
    "print(Array)"
   ]
  },
  {
   "cell_type": "markdown",
   "id": "ff893951",
   "metadata": {},
   "source": [
    "### Data Frame"
   ]
  },
  {
   "cell_type": "code",
   "execution_count": 22,
   "id": "b6da09e0",
   "metadata": {},
   "outputs": [
    {
     "name": "stdout",
     "output_type": "stream",
     "text": [
      "   col1  col2  col3\n",
      "0     1     4     7\n",
      "1     2     5     8\n",
      "2     3     6    12\n",
      "3     4     9     1\n",
      "4     7     5    11\n"
     ]
    }
   ],
   "source": [
    "import pandas as pd\n",
    "\n",
    "# Creating a dictionary with lists as values\n",
    "d = {'col1': [1, 2, 3, 4, 7], 'col2': [4, 5, 6, 9, 5], 'col3': [7, 8, 12, 1, 11]}\n",
    "\n",
    "# Creating a DataFrame from the dictionary\n",
    "df = pd.DataFrame(data=d)\n",
    "\n",
    "# Printing the DataFrame\n",
    "print(df)"
   ]
  },
  {
   "cell_type": "code",
   "execution_count": null,
   "id": "cd773734",
   "metadata": {},
   "outputs": [
    {
     "name": "stdout",
     "output_type": "stream",
     "text": [
      "3\n",
      "5\n"
     ]
    }
   ],
   "source": [
    "countColumn = df.shape[1]\n",
    "print(\"Number of columns:\")\n",
    "print(countColumn)\n",
    "\n",
    "countRow = df.shape[0]\n",
    "print(\"Number of rows:\")\n",
    "print(countRow)"
   ]
  }
 ],
 "metadata": {
  "kernelspec": {
   "display_name": "Python 3",
   "language": "python",
   "name": "python3"
  },
  "language_info": {
   "codemirror_mode": {
    "name": "ipython",
    "version": 3
   },
   "file_extension": ".py",
   "mimetype": "text/x-python",
   "name": "python",
   "nbconvert_exporter": "python",
   "pygments_lexer": "ipython3",
   "version": "3.13.2"
  }
 },
 "nbformat": 4,
 "nbformat_minor": 5
}

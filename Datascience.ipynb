{
 "cells": [
  {
   "cell_type": "markdown",
   "id": "198f72a5",
   "metadata": {
    "vscode": {
     "languageId": "plaintext"
    }
   },
   "source": [
    "### What is Data?"
   ]
  },
  {
   "cell_type": "code",
   "execution_count": null,
   "id": "dde69f19",
   "metadata": {},
   "outputs": [],
   "source": [
    "Array = [80, 85, 90, 95, 100, 105, 110, 115, 120, 125]\n",
    "print(Array)"
   ]
  }
 ],
 "metadata": {
  "kernelspec": {
   "display_name": "Python 3",
   "language": "python",
   "name": "python3"
  },
  "language_info": {
   "name": "python",
   "version": "3.13.2"
  }
 },
 "nbformat": 4,
 "nbformat_minor": 5
}

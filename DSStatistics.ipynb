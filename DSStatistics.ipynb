{
 "cells": [
  {
   "cell_type": "markdown",
   "id": "c08dedcb",
   "metadata": {},
   "source": [
    "### Stat Introduction"
   ]
  },
  {
   "cell_type": "code",
   "execution_count": 1,
   "id": "ec83d62e",
   "metadata": {},
   "outputs": [
    {
     "name": "stdout",
     "output_type": "stream",
     "text": [
      "        Duration  Average_Pulse   Max_Pulse  Calorie_Burnage  Hours_Work  \\\n",
      "count  10.000000      10.000000   10.000000        10.000000   10.000000   \n",
      "mean   51.000000     102.500000  137.000000       285.000000    6.600000   \n",
      "std    10.488088      15.138252   11.352924        30.276504    3.627059   \n",
      "min    30.000000      80.000000  120.000000       240.000000    0.000000   \n",
      "25%    45.000000      91.250000  130.000000       262.500000    7.000000   \n",
      "50%    52.500000     102.500000  140.000000       285.000000    8.000000   \n",
      "75%    60.000000     113.750000  145.000000       307.500000    8.000000   \n",
      "max    60.000000     125.000000  150.000000       330.000000   10.000000   \n",
      "\n",
      "       Hours_Sleep  \n",
      "count    10.000000  \n",
      "mean      7.500000  \n",
      "std       0.527046  \n",
      "min       7.000000  \n",
      "25%       7.000000  \n",
      "50%       7.500000  \n",
      "75%       8.000000  \n",
      "max       8.000000  \n"
     ]
    }
   ],
   "source": [
    "import pandas as pd\n",
    "\n",
    "full_health_data = pd.read_csv(\"data.csv\", header=0, sep=\",\")\n",
    "\n",
    "pd.set_option('display.max_columns', None)\n",
    "pd.set_option('display.max_rows', None)\n",
    "\n",
    "print(full_health_data.describe())"
   ]
  },
  {
   "cell_type": "code",
   "execution_count": 3,
   "id": "9221452e",
   "metadata": {},
   "outputs": [
    {
     "name": "stdout",
     "output_type": "stream",
     "text": [
      "120.0\n"
     ]
    }
   ],
   "source": [
    "import pandas as pd\n",
    "import numpy as np\n",
    "\n",
    "full_health_data = pd.read_csv(\"data.csv\", header=0, sep=\",\")\n",
    "\n",
    "Max_Pulse= full_health_data[\"Max_Pulse\"]\n",
    "percentile10 = np.percentile(Max_Pulse, 10)\n",
    "\n",
    "print(percentile10)\n"
   ]
  },
  {
   "cell_type": "code",
   "execution_count": null,
   "id": "9f6de7ec",
   "metadata": {},
   "outputs": [],
   "source": []
  }
 ],
 "metadata": {
  "kernelspec": {
   "display_name": "Python 3",
   "language": "python",
   "name": "python3"
  },
  "language_info": {
   "codemirror_mode": {
    "name": "ipython",
    "version": 3
   },
   "file_extension": ".py",
   "mimetype": "text/x-python",
   "name": "python",
   "nbconvert_exporter": "python",
   "pygments_lexer": "ipython3",
   "version": "3.13.2"
  }
 },
 "nbformat": 4,
 "nbformat_minor": 5
}
